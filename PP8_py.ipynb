{
  "nbformat": 4,
  "nbformat_minor": 0,
  "metadata": {
    "colab": {
      "provenance": [],
      "authorship_tag": "ABX9TyMo1w881TpRPr9GGENrZH+T",
      "include_colab_link": true
    },
    "kernelspec": {
      "name": "python3",
      "display_name": "Python 3"
    },
    "language_info": {
      "name": "python"
    }
  },
  "cells": [
    {
      "cell_type": "markdown",
      "metadata": {
        "id": "view-in-github",
        "colab_type": "text"
      },
      "source": [
        "<a href=\"https://colab.research.google.com/github/Arsa2007/PYTHON/blob/main/PP8_py.ipynb\" target=\"_parent\"><img src=\"https://colab.research.google.com/assets/colab-badge.svg\" alt=\"Open In Colab\"/></a>"
      ]
    },
    {
      "cell_type": "code",
      "execution_count": 6,
      "metadata": {
        "colab": {
          "base_uri": "https://localhost:8080/"
        },
        "id": "VKRMKcN4xh19",
        "outputId": "9df095ba-73d4-486d-838a-94c57e49c331"
      },
      "outputs": [
        {
          "output_type": "stream",
          "name": "stdout",
          "text": [
            "woof\n",
            "meow\n"
          ]
        }
      ],
      "source": [
        "class Animal:\n",
        "  def __init__(self,name,breed):\n",
        "    self.name=name\n",
        "    self.breed=breed\n",
        "  def sound(self):\n",
        "    print('woof')\n",
        "animal1=Animal('bob','lap')\n",
        "animal1.sound()\n",
        "class Cat(Animal):\n",
        "  def sound(self):\n",
        "    print('meow')\n",
        "dog1=Cat('bob','lap')\n",
        "dog1.sound()"
      ]
    }
  ]
}